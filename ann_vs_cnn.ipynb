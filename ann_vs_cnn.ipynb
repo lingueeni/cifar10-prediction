{
  "nbformat": 4,
  "nbformat_minor": 0,
  "metadata": {
    "colab": {
      "provenance": [],
      "authorship_tag": "ABX9TyMhuK3sJt020CcLqbeUjtZS",
      "include_colab_link": true
    },
    "kernelspec": {
      "name": "python3",
      "display_name": "Python 3"
    },
    "language_info": {
      "name": "python"
    }
  },
  "cells": [
    {
      "cell_type": "markdown",
      "metadata": {
        "id": "view-in-github",
        "colab_type": "text"
      },
      "source": [
        "<a href=\"https://colab.research.google.com/github/lingueeni/cifar10-prediction/blob/main/ann_vs_cnn.ipynb\" target=\"_parent\"><img src=\"https://colab.research.google.com/assets/colab-badge.svg\" alt=\"Open In Colab\"/></a>"
      ]
    },
    {
      "cell_type": "code",
      "execution_count": 1,
      "metadata": {
        "id": "vQU3l8O0kiUF"
      },
      "outputs": [],
      "source": [
        "import tensorflow as tf\n",
        "from tensorflow.keras import datasets,layers,models\n",
        "import matplotlib.pyplot as plt\n",
        "import numpy as np"
      ]
    },
    {
      "cell_type": "code",
      "source": [
        "(X_train,y_train),(X_test,y_test) = datasets.cifar10.load_data()\n",
        "X_train.shape"
      ],
      "metadata": {
        "colab": {
          "base_uri": "https://localhost:8080/"
        },
        "id": "WZDpQ1SKk3Yp",
        "outputId": "8cae659d-793c-4ac0-8365-8ef51653f01a"
      },
      "execution_count": 2,
      "outputs": [
        {
          "output_type": "stream",
          "name": "stdout",
          "text": [
            "Downloading data from https://www.cs.toronto.edu/~kriz/cifar-10-python.tar.gz\n",
            "170498071/170498071 [==============================] - 2s 0us/step\n"
          ]
        },
        {
          "output_type": "execute_result",
          "data": {
            "text/plain": [
              "(50000, 32, 32, 3)"
            ]
          },
          "metadata": {},
          "execution_count": 2
        }
      ]
    },
    {
      "cell_type": "code",
      "source": [
        "X_test.shape"
      ],
      "metadata": {
        "colab": {
          "base_uri": "https://localhost:8080/"
        },
        "id": "lrqFfaUUlML4",
        "outputId": "976ce823-e3d0-4f46-8c66-0f7186dfbc93"
      },
      "execution_count": 3,
      "outputs": [
        {
          "output_type": "execute_result",
          "data": {
            "text/plain": [
              "(10000, 32, 32, 3)"
            ]
          },
          "metadata": {},
          "execution_count": 3
        }
      ]
    },
    {
      "cell_type": "code",
      "source": [
        "y_train.shape"
      ],
      "metadata": {
        "colab": {
          "base_uri": "https://localhost:8080/"
        },
        "id": "yUllG6ZflcF3",
        "outputId": "6e3083aa-6715-43a7-cb5d-5e24a8e96280"
      },
      "execution_count": 5,
      "outputs": [
        {
          "output_type": "execute_result",
          "data": {
            "text/plain": [
              "(50000, 1)"
            ]
          },
          "metadata": {},
          "execution_count": 5
        }
      ]
    },
    {
      "cell_type": "code",
      "source": [
        "y_test.shape"
      ],
      "metadata": {
        "colab": {
          "base_uri": "https://localhost:8080/"
        },
        "id": "Zz3mzPT1lgyn",
        "outputId": "a818910a-b9a3-496c-c844-a57203415bb6"
      },
      "execution_count": 6,
      "outputs": [
        {
          "output_type": "execute_result",
          "data": {
            "text/plain": [
              "(10000, 1)"
            ]
          },
          "metadata": {},
          "execution_count": 6
        }
      ]
    },
    {
      "cell_type": "code",
      "source": [
        "y_train[:5]"
      ],
      "metadata": {
        "colab": {
          "base_uri": "https://localhost:8080/"
        },
        "id": "JJ6NTmFOlkRv",
        "outputId": "90a641d1-2298-4e60-a7b3-741e34fad014"
      },
      "execution_count": 7,
      "outputs": [
        {
          "output_type": "execute_result",
          "data": {
            "text/plain": [
              "array([[6],\n",
              "       [9],\n",
              "       [9],\n",
              "       [4],\n",
              "       [1]], dtype=uint8)"
            ]
          },
          "metadata": {},
          "execution_count": 7
        }
      ]
    },
    {
      "cell_type": "code",
      "source": [
        "y_train = y_train.reshape(-1,)"
      ],
      "metadata": {
        "id": "W2s0_-5ylqa4"
      },
      "execution_count": 9,
      "outputs": []
    },
    {
      "cell_type": "code",
      "source": [
        "y_train[:5]"
      ],
      "metadata": {
        "colab": {
          "base_uri": "https://localhost:8080/"
        },
        "id": "idRCMbxcluy_",
        "outputId": "8bd39eeb-a147-4737-a47b-8db4edc58bb6"
      },
      "execution_count": 10,
      "outputs": [
        {
          "output_type": "execute_result",
          "data": {
            "text/plain": [
              "array([6, 9, 9, 4, 1], dtype=uint8)"
            ]
          },
          "metadata": {},
          "execution_count": 10
        }
      ]
    },
    {
      "cell_type": "code",
      "source": [
        "y_test = y_test.reshape(-1,)\n",
        "y_test[:5]"
      ],
      "metadata": {
        "colab": {
          "base_uri": "https://localhost:8080/"
        },
        "id": "FMD0N3ILl5FX",
        "outputId": "398e8a49-4570-43fd-b4e4-e4130823e015"
      },
      "execution_count": 11,
      "outputs": [
        {
          "output_type": "execute_result",
          "data": {
            "text/plain": [
              "array([3, 8, 8, 0, 6], dtype=uint8)"
            ]
          },
          "metadata": {},
          "execution_count": 11
        }
      ]
    },
    {
      "cell_type": "code",
      "source": [
        "classes = [\"airplane\",\"automobile\",\"bird\",\"cat\",\"deer\",\"dog\",\"frog\",\"horse\",\"ship\",\"truck\"]"
      ],
      "metadata": {
        "id": "MzjShO0BmEIe"
      },
      "execution_count": 12,
      "outputs": []
    },
    {
      "cell_type": "code",
      "source": [
        "def plot_sample(X,y,index):\n",
        "  plt.figure(figsize = (15,2))\n",
        "  plt.imshow(X[index])\n",
        "  plt.xlabel(classes[y[index]])"
      ],
      "metadata": {
        "id": "Ab2YEkS-mHbe"
      },
      "execution_count": 13,
      "outputs": []
    },
    {
      "cell_type": "code",
      "source": [
        "plot_sample(X_train,y_train,0)"
      ],
      "metadata": {
        "colab": {
          "base_uri": "https://localhost:8080/",
          "height": 173
        },
        "id": "_lXoXVutmaUP",
        "outputId": "2d2cf1a9-3873-4492-e3c3-66ab4a38ea1f"
      },
      "execution_count": 15,
      "outputs": [
        {
          "output_type": "display_data",
          "data": {
            "text/plain": [
              "<Figure size 1080x144 with 1 Axes>"
            ],
            "image/png": "[encoded data removed]"
          },
          "metadata": {
            "needs_background": "light"
          }
        }
      ]
    },
    {
      "cell_type": "code",
      "source": [
        "plot_sample(X_train,y_train,1)"
      ],
      "metadata": {
        "colab": {
          "base_uri": "https://localhost:8080/",
          "height": 173
        },
        "id": "7ahq5Jq3mfqG",
        "outputId": "f12892ba-bd69-4524-9622-efaae7d609a0"
      },
      "execution_count": 16,
      "outputs": [
        {
          "output_type": "display_data",
          "data": {
            "text/plain": [
              "<Figure size 1080x144 with 1 Axes>"
            ],
            "image/png": "[encoded data removed]"
          },
          "metadata": {
            "needs_background": "light"
          }
        }
      ]
    },
    {
      "cell_type": "code",
      "source": [
        "plot_sample(X_train,y_train,49999)"
      ],
      "metadata": {
        "colab": {
          "base_uri": "https://localhost:8080/",
          "height": 173
        },
        "id": "WzsVLfMUmn_O",
        "outputId": "0fb7d303-233e-4687-e64d-d854bc15a394"
      },
      "execution_count": 17,
      "outputs": [
        {
          "output_type": "display_data",
          "data": {
            "text/plain": [
              "<Figure size 1080x144 with 1 Axes>"
            ],
            "image/png": "[encoded data removed]"
          },
          "metadata": {
            "needs_background": "light"
          }
        }
      ]
    },
    {
      "cell_type": "code",
      "source": [
        "plot_sample(X_train,y_train,50)"
      ],
      "metadata": {
        "colab": {
          "base_uri": "https://localhost:8080/",
          "height": 173
        },
        "id": "ktOt53xomtw1",
        "outputId": "04ffe6e8-f0af-4de9-bcdc-5492b30df821"
      },
      "execution_count": 18,
      "outputs": [
        {
          "output_type": "display_data",
          "data": {
            "text/plain": [
              "<Figure size 1080x144 with 1 Axes>"
            ],
            "image/png": "[encoded data removed]"
          },
          "metadata": {
            "needs_background": "light"
          }
        }
      ]
    },
    {
      "cell_type": "code",
      "source": [
        "X_train = X_train / 255.0\n",
        "X_test = X_test / 255.0"
      ],
      "metadata": {
        "id": "m246JJrqmwm9"
      },
      "execution_count": 19,
      "outputs": []
    },
    {
      "cell_type": "code",
      "source": [
        "artificial_neural_network = models.Sequential([\n",
        "        layers.Flatten(input_shape = (32,32,3)),\n",
        "        layers.Dense(3000, activation = 'relu'),\n",
        "        layers.Dense(1000, activation = 'relu'),\n",
        "        layers.Dense(10, activation = 'softmax')\n",
        "        ])\n",
        "\n",
        "artificial_neural_network.compile(optimizer = 'SGD', loss='sparse_categorical_crossentropy', metrics=['accuracy'])\n",
        "artificial_neural_network.fit(X_train,y_train,epochs=10)"
      ],
      "metadata": {
        "colab": {
          "base_uri": "https://localhost:8080/"
        },
        "id": "nXIuOBnhm-NE",
        "outputId": "14345249-6062-4dae-c95c-5a3524785e0d"
      },
      "execution_count": 21,
      "outputs": [
        {
          "output_type": "stream",
          "name": "stdout",
          "text": [
            "Epoch 1/10\n",
            "1563/1563 [==============================] - 111s 69ms/step - loss: 1.8118 - accuracy: 0.3555\n",
            "Epoch 2/10\n",
            "1563/1563 [==============================] - 103s 66ms/step - loss: 1.6245 - accuracy: 0.4271\n",
            "Epoch 3/10\n",
            "1563/1563 [==============================] - 100s 64ms/step - loss: 1.5411 - accuracy: 0.4552\n",
            "Epoch 4/10\n",
            "1563/1563 [==============================] - 100s 64ms/step - loss: 1.4825 - accuracy: 0.4778\n",
            "Epoch 5/10\n",
            "1563/1563 [==============================] - 102s 65ms/step - loss: 1.4309 - accuracy: 0.4985\n",
            "Epoch 6/10\n",
            "1563/1563 [==============================] - 101s 65ms/step - loss: 1.3880 - accuracy: 0.5108\n",
            "Epoch 7/10\n",
            "1563/1563 [==============================] - 102s 65ms/step - loss: 1.3497 - accuracy: 0.5256\n",
            "Epoch 8/10\n",
            "1563/1563 [==============================] - 102s 65ms/step - loss: 1.3152 - accuracy: 0.5404\n",
            "Epoch 9/10\n",
            "1563/1563 [==============================] - 101s 65ms/step - loss: 1.2803 - accuracy: 0.5512\n",
            "Epoch 10/10\n",
            "1563/1563 [==============================] - 101s 64ms/step - loss: 1.2499 - accuracy: 0.5601\n"
          ]
        },
        {
          "output_type": "execute_result",
          "data": {
            "text/plain": [
              "<keras.callbacks.History at 0x7f34f9509e80>"
            ]
          },
          "metadata": {},
          "execution_count": 21
        }
      ]
    },
    {
      "cell_type": "code",
      "source": [
        "from sklearn.metrics import confusion_matrix , classification_report\n",
        "import numpy as np"
      ],
      "metadata": {
        "id": "yFuZQU2TtmRm"
      },
      "execution_count": 24,
      "outputs": []
    },
    {
      "cell_type": "code",
      "source": [
        "y_predict = artificial_neural_network.predict(X_test)\n",
        "y_pred_classes = [np.argmax(element) for element in y_predict]\n",
        "\n",
        "print(\"Classification Report: \\n\", classification_report(y_test, y_pred_classes))\n"
      ],
      "metadata": {
        "colab": {
          "base_uri": "https://localhost:8080/"
        },
        "id": "neoC3sq_t4Oc",
        "outputId": "7a6686cb-07ff-4420-d5e3-f08366f4feef"
      },
      "execution_count": 25,
      "outputs": [
        {
          "output_type": "stream",
          "name": "stdout",
          "text": [
            "313/313 [==============================] - 9s 28ms/step\n",
            "Classification Report: \n",
            "               precision    recall  f1-score   support\n",
            "\n",
            "           0       0.64      0.54      0.58      1000\n",
            "           1       0.63      0.69      0.66      1000\n",
            "           2       0.53      0.21      0.31      1000\n",
            "           3       0.26      0.68      0.38      1000\n",
            "           4       0.44      0.47      0.46      1000\n",
            "           5       0.55      0.14      0.22      1000\n",
            "           6       0.55      0.60      0.57      1000\n",
            "           7       0.66      0.49      0.56      1000\n",
            "           8       0.67      0.62      0.65      1000\n",
            "           9       0.57      0.59      0.58      1000\n",
            "\n",
            "    accuracy                           0.50     10000\n",
            "   macro avg       0.55      0.50      0.50     10000\n",
            "weighted avg       0.55      0.50      0.50     10000\n",
            "\n"
          ]
        }
      ]
    },
    {
      "cell_type": "code",
      "source": [
        "convolutional_neural_network = models.Sequential([\n",
        "    layers.Conv2D(filters=32, kernel_size=(3, 3), activation='relu', input_shape=(32, 32, 3)),\n",
        "    layers.MaxPooling2D((2, 2)),\n",
        "    \n",
        "    layers.Conv2D(filters=64, kernel_size=(3, 3), activation='relu'),\n",
        "    layers.MaxPooling2D((2, 2)),\n",
        "    \n",
        "    layers.Flatten(),\n",
        "    layers.Dense(64, activation='relu'),\n",
        "    layers.Dense(10, activation='softmax')\n",
        "])\n"
      ],
      "metadata": {
        "id": "cyAy28I0uhRQ"
      },
      "execution_count": 26,
      "outputs": []
    },
    {
      "cell_type": "code",
      "source": [
        "convolutional_neural_network.compile(optimizer='adam', loss='sparse_categorical_crossentropy', metrics=['accuracy'])\n",
        "convolutional_neural_network.fit(X_train,y_train,epochs=10)\n"
      ],
      "metadata": {
        "colab": {
          "base_uri": "https://localhost:8080/"
        },
        "id": "0Em3wDscvAV_",
        "outputId": "fea32cdb-bd19-4c66-a342-b1faa45e70ea"
      },
      "execution_count": 27,
      "outputs": [
        {
          "output_type": "stream",
          "name": "stdout",
          "text": [
            "Epoch 1/10\n",
            "1563/1563 [==============================] - 70s 44ms/step - loss: 1.4375 - accuracy: 0.4851\n",
            "Epoch 2/10\n",
            "1563/1563 [==============================] - 67s 43ms/step - loss: 1.0805 - accuracy: 0.6187\n",
            "Epoch 3/10\n",
            "1563/1563 [==============================] - 66s 42ms/step - loss: 0.9555 - accuracy: 0.6690\n",
            "Epoch 4/10\n",
            "1563/1563 [==============================] - 68s 43ms/step - loss: 0.8682 - accuracy: 0.7014\n",
            "Epoch 5/10\n",
            "1563/1563 [==============================] - 66s 42ms/step - loss: 0.8016 - accuracy: 0.7207\n",
            "Epoch 6/10\n",
            "1563/1563 [==============================] - 65s 42ms/step - loss: 0.7429 - accuracy: 0.7412\n",
            "Epoch 7/10\n",
            "1563/1563 [==============================] - 65s 42ms/step - loss: 0.6902 - accuracy: 0.7594\n",
            "Epoch 8/10\n",
            "1563/1563 [==============================] - 66s 42ms/step - loss: 0.6492 - accuracy: 0.7713\n",
            "Epoch 9/10\n",
            "1563/1563 [==============================] - 67s 43ms/step - loss: 0.6119 - accuracy: 0.7859\n",
            "Epoch 10/10\n",
            "1563/1563 [==============================] - 66s 42ms/step - loss: 0.5753 - accuracy: 0.7980\n"
          ]
        },
        {
          "output_type": "execute_result",
          "data": {
            "text/plain": [
              "<keras.callbacks.History at 0x7f34f472baf0>"
            ]
          },
          "metadata": {},
          "execution_count": 27
        }
      ]
    },
    {
      "cell_type": "code",
      "source": [
        "convolutional_neural_network.evaluate(X_test,y_test)"
      ],
      "metadata": {
        "colab": {
          "base_uri": "https://localhost:8080/"
        },
        "id": "buoKwE3jvdB7",
        "outputId": "df7948e1-0f41-4e9f-de45-e7cba33049e4"
      },
      "execution_count": 28,
      "outputs": [
        {
          "output_type": "stream",
          "name": "stdout",
          "text": [
            "313/313 [==============================] - 5s 15ms/step - loss: 0.9549 - accuracy: 0.6951\n"
          ]
        },
        {
          "output_type": "execute_result",
          "data": {
            "text/plain": [
              "[0.9548604488372803, 0.6951000094413757]"
            ]
          },
          "metadata": {},
          "execution_count": 28
        }
      ]
    },
    {
      "cell_type": "code",
      "source": [
        "artificial_neural_network.predict(X_test)"
      ],
      "metadata": {
        "colab": {
          "base_uri": "https://localhost:8080/"
        },
        "id": "ftYxq-xQyrRN",
        "outputId": "14a8abcd-03fd-487f-8fae-e94b2fe32623"
      },
      "execution_count": 29,
      "outputs": [
        {
          "output_type": "stream",
          "name": "stdout",
          "text": [
            "313/313 [==============================] - 9s 27ms/step\n"
          ]
        },
        {
          "output_type": "execute_result",
          "data": {
            "text/plain": [
              "array([[1.6908647e-02, 2.4997270e-02, 7.6864801e-02, ..., 5.1790656e-04,\n",
              "        2.4229668e-02, 8.4563985e-04],\n",
              "       [1.7565498e-02, 3.0937272e-01, 5.9857185e-04, ..., 7.0461996e-05,\n",
              "        2.1999259e-01, 4.4986150e-01],\n",
              "       [3.5246629e-01, 1.7187028e-01, 4.5186491e-03, ..., 1.9518543e-03,\n",
              "        2.7331892e-01, 1.8464777e-01],\n",
              "       ...,\n",
              "       [1.5713925e-03, 3.2494465e-04, 1.8385622e-01, ..., 9.5860604e-03,\n",
              "        1.4119766e-02, 2.0079277e-03],\n",
              "       [1.1436028e-02, 3.1956498e-02, 8.2054675e-02, ..., 1.6117707e-02,\n",
              "        5.1623518e-03, 8.3823092e-03],\n",
              "       [3.6513373e-02, 6.6120657e-03, 9.5687889e-02, ..., 3.4101501e-01,\n",
              "        4.1870004e-03, 1.7979220e-02]], dtype=float32)"
            ]
          },
          "metadata": {},
          "execution_count": 29
        }
      ]
    },
    {
      "cell_type": "code",
      "source": [
        "convolutional_neural_network.predict(X_test)"
      ],
      "metadata": {
        "colab": {
          "base_uri": "https://localhost:8080/"
        },
        "id": "9aylLyGxy9GZ",
        "outputId": "f3385543-208d-47ce-bedb-72df59a4ef94"
      },
      "execution_count": 30,
      "outputs": [
        {
          "output_type": "stream",
          "name": "stdout",
          "text": [
            "313/313 [==============================] - 5s 15ms/step\n"
          ]
        },
        {
          "output_type": "execute_result",
          "data": {
            "text/plain": [
              "array([[9.67393105e-04, 4.44933103e-05, 1.13260699e-03, ...,\n",
              "        5.83332530e-06, 1.47720166e-02, 3.01650562e-05],\n",
              "       [9.91399679e-03, 5.97297773e-03, 1.34676566e-05, ...,\n",
              "        9.38623845e-09, 9.83774602e-01, 3.20787309e-04],\n",
              "       [7.62972176e-01, 1.12841815e-01, 5.39779523e-03, ...,\n",
              "        6.53942209e-03, 4.20815423e-02, 6.82308003e-02],\n",
              "       ...,\n",
              "       [4.30784967e-05, 3.63623735e-06, 5.00764623e-02, ...,\n",
              "        1.40569601e-02, 6.34338940e-04, 2.58286920e-04],\n",
              "       [6.20404541e-01, 4.21582647e-02, 1.36700156e-03, ...,\n",
              "        2.53031849e-05, 1.31971717e-07, 2.83666537e-04],\n",
              "       [1.74250490e-05, 3.57976013e-08, 1.50735514e-05, ...,\n",
              "        9.70858395e-01, 1.59128053e-08, 2.03009023e-07]], dtype=float32)"
            ]
          },
          "metadata": {},
          "execution_count": 30
        }
      ]
    },
    {
      "cell_type": "code",
      "source": [
        "y_pred = convolutional_neural_network.predict(X_test)\n",
        "y_pred[:5]\n"
      ],
      "metadata": {
        "colab": {
          "base_uri": "https://localhost:8080/"
        },
        "id": "C27sRKiBzIVv",
        "outputId": "f9033004-8233-4248-cb69-fc73651dc47f"
      },
      "execution_count": 31,
      "outputs": [
        {
          "output_type": "stream",
          "name": "stdout",
          "text": [
            "313/313 [==============================] - 5s 16ms/step\n"
          ]
        },
        {
          "output_type": "execute_result",
          "data": {
            "text/plain": [
              "array([[9.67393105e-04, 4.44933103e-05, 1.13260699e-03, 9.32197094e-01,\n",
              "        7.49388942e-04, 4.92710434e-02, 8.30040779e-04, 5.83332530e-06,\n",
              "        1.47720166e-02, 3.01650562e-05],\n",
              "       [9.91399679e-03, 5.97297773e-03, 1.34676566e-05, 3.71795204e-06,\n",
              "        2.66454464e-07, 1.48197074e-07, 5.31253619e-08, 9.38623845e-09,\n",
              "        9.83774602e-01, 3.20787309e-04],\n",
              "       [7.62972176e-01, 1.12841815e-01, 5.39779523e-03, 7.43615965e-04,\n",
              "        8.49180622e-04, 1.83951255e-04, 1.59700474e-04, 6.53942209e-03,\n",
              "        4.20815423e-02, 6.82308003e-02],\n",
              "       [8.89518917e-01, 4.04704595e-03, 3.81601299e-03, 6.04598783e-04,\n",
              "        1.27796782e-03, 1.84899982e-05, 3.65176202e-05, 1.40869961e-04,\n",
              "        1.00157641e-01, 3.81946069e-04],\n",
              "       [6.61488784e-08, 3.88744229e-06, 9.24830092e-04, 1.34697305e-02,\n",
              "        6.97727948e-02, 1.00828358e-03, 9.14819479e-01, 1.83830835e-07,\n",
              "        4.95047061e-07, 2.21611245e-07]], dtype=float32)"
            ]
          },
          "metadata": {},
          "execution_count": 31
        }
      ]
    },
    {
      "cell_type": "code",
      "source": [
        "y_classes = [np.argmax(element) for element in y_pred]\n"
      ],
      "metadata": {
        "id": "-XR9VoFAzWXx"
      },
      "execution_count": 32,
      "outputs": []
    },
    {
      "cell_type": "code",
      "source": [
        "y_classes[:5]"
      ],
      "metadata": {
        "colab": {
          "base_uri": "https://localhost:8080/"
        },
        "id": "npBZKw5Yzli4",
        "outputId": "2ccadac5-05e0-4193-a2a0-6bb977b42a50"
      },
      "execution_count": 33,
      "outputs": [
        {
          "output_type": "execute_result",
          "data": {
            "text/plain": [
              "[3, 8, 0, 0, 6]"
            ]
          },
          "metadata": {},
          "execution_count": 33
        }
      ]
    },
    {
      "cell_type": "code",
      "source": [
        "y_test[:5]"
      ],
      "metadata": {
        "colab": {
          "base_uri": "https://localhost:8080/"
        },
        "id": "70acfQLXzoQf",
        "outputId": "9640ac6e-ca2a-495e-b9a2-268b58fb8fda"
      },
      "execution_count": 34,
      "outputs": [
        {
          "output_type": "execute_result",
          "data": {
            "text/plain": [
              "array([3, 8, 8, 0, 6], dtype=uint8)"
            ]
          },
          "metadata": {},
          "execution_count": 34
        }
      ]
    },
    {
      "cell_type": "code",
      "source": [
        "plot_sample(X_test, y_test,100)"
      ],
      "metadata": {
        "colab": {
          "base_uri": "https://localhost:8080/",
          "height": 173
        },
        "id": "RDJEZJ5xztp4",
        "outputId": "fa196845-7982-4cd1-d15b-c8b6b325bc30"
      },
      "execution_count": 44,
      "outputs": [
        {
          "output_type": "display_data",
          "data": {
            "text/plain": [
              "<Figure size 1080x144 with 1 Axes>"
            ],
            "image/png": "[encoded data removed]"
          },
          "metadata": {
            "needs_background": "light"
          }
        }
      ]
    },
    {
      "cell_type": "code",
      "source": [
        "classes[y_classes[100]]"
      ],
      "metadata": {
        "colab": {
          "base_uri": "https://localhost:8080/",
          "height": 35
        },
        "id": "rmLba6rn0JDf",
        "outputId": "9773df01-9623-4a2b-bc41-f9f29109ca2e"
      },
      "execution_count": 43,
      "outputs": [
        {
          "output_type": "execute_result",
          "data": {
            "text/plain": [
              "'deer'"
            ],
            "application/vnd.google.colaboratory.intrinsic+json": {
              "type": "string"
            }
          },
          "metadata": {},
          "execution_count": 43
        }
      ]
    }
  ]
}